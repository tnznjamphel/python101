{
 "cells": [
  {
   "cell_type": "code",
   "execution_count": 14,
   "metadata": {},
   "outputs": [],
   "source": [
    "list1=[10,20,30,50,40,20,20,80]\n",
    " \n",
    "lst=[10,20,30,40]\n",
    "def shift(list1,pos):\n",
    "    if pos+1<len(list1):\n",
    "        list1[pos]=list1[pos+1]\n",
    "        shift(list1,pos+1)\n",
    "\n",
    "def rremove(list1,x,i=0):\n",
    "    '''\n",
    "    objective: to remove all instances of element x\n",
    "    input: list,element x\n",
    "    ouput: list with all xs removed\n",
    "    return: none\n",
    "    '''\n",
    "    if i<len(list1):\n",
    "        n=i+1\n",
    "        if list1[i]==x:\n",
    "            shift(list1,i)\n",
    "            list1.pop()\n",
    "            n=i\n",
    "        rremove(list1,x,n)\n",
    "\n"
   ]
  },
  {
   "cell_type": "code",
   "execution_count": 15,
   "metadata": {},
   "outputs": [],
   "source": [
    "rremove(list1,20)"
   ]
  },
  {
   "cell_type": "code",
   "execution_count": 16,
   "metadata": {},
   "outputs": [
    {
     "data": {
      "text/plain": [
       "[10, 30, 50, 40, 80]"
      ]
     },
     "execution_count": 16,
     "metadata": {},
     "output_type": "execute_result"
    }
   ],
   "source": [
    "list1"
   ]
  },
  {
   "cell_type": "code",
   "execution_count": 26,
   "metadata": {},
   "outputs": [],
   "source": [
    "lst=[1,[2,3,[4]],5]\n",
    "cop=[]\n",
    "#flattening the list \n",
    "def copy(list1,cop,i=0):\n",
    "    if i<len(list1):\n",
    "        if type(list1[i])==list:\n",
    "            copy(list1[i],cop,i=0)\n",
    "        else:\n",
    "            cop.append(list1[i])\n",
    "        copy(list1,cop,i+1)"
   ]
  },
  {
   "cell_type": "code",
   "execution_count": 27,
   "metadata": {},
   "outputs": [],
   "source": [
    "copy(lst,cop)"
   ]
  },
  {
   "cell_type": "code",
   "execution_count": 28,
   "metadata": {},
   "outputs": [
    {
     "data": {
      "text/plain": [
       "[1, 2, 3, 4, 5]"
      ]
     },
     "execution_count": 28,
     "metadata": {},
     "output_type": "execute_result"
    }
   ],
   "source": [
    "cop"
   ]
  },
  {
   "cell_type": "code",
   "execution_count": 29,
   "metadata": {},
   "outputs": [],
   "source": [
    "lst=[1,[2,3,[4]],5]\n",
    "cop=[]\n",
    "def copy(list1,cop,i=0):\n",
    "    '''\n",
    "    objecive: to copy a given list to another list\n",
    "    input: two lists\n",
    "    output: the first list is copied into the second list\n",
    "    return value: none\n",
    "    '''\n",
    "    if i<len(list1):\n",
    "        cop.append(list1[i]) # cop\n",
    "        copy(list1,cop,i+1)"
   ]
  },
  {
   "cell_type": "code",
   "execution_count": 30,
   "metadata": {},
   "outputs": [],
   "source": [
    "copy(lst,cop)"
   ]
  },
  {
   "cell_type": "code",
   "execution_count": 33,
   "metadata": {},
   "outputs": [
    {
     "name": "stdout",
     "output_type": "stream",
     "text": [
      "2371726939336\n",
      "2371726939336\n"
     ]
    }
   ],
   "source": [
    "print(id(lst[1]))\n",
    "print(id(cop[1]))"
   ]
  },
  {
   "cell_type": "code",
   "execution_count": 24,
   "metadata": {},
   "outputs": [],
   "source": [
    "lst=[1,[2,3,[4]],5]\n",
    "cop=[]\n",
    "def copy(list1,cop):\n",
    "    if len(list1)==0:\n",
    "        return cop\n",
    "    else:\n",
    "        cop+=[list1[0]]\n",
    "        return copy(list1[1:],cop)"
   ]
  },
  {
   "cell_type": "code",
   "execution_count": 25,
   "metadata": {},
   "outputs": [
    {
     "data": {
      "text/plain": [
       "[1, [2, 3, [4]], 5]"
      ]
     },
     "execution_count": 25,
     "metadata": {},
     "output_type": "execute_result"
    }
   ],
   "source": [
    "copy(lst,cop)"
   ]
  },
  {
   "cell_type": "code",
   "execution_count": null,
   "metadata": {},
   "outputs": [],
   "source": []
  }
 ],
 "metadata": {
  "kernelspec": {
   "display_name": "Python 3",
   "language": "python",
   "name": "python3"
  },
  "language_info": {
   "codemirror_mode": {
    "name": "ipython",
    "version": 3
   },
   "file_extension": ".py",
   "mimetype": "text/x-python",
   "name": "python",
   "nbconvert_exporter": "python",
   "pygments_lexer": "ipython3",
   "version": "3.6.5"
  }
 },
 "nbformat": 4,
 "nbformat_minor": 2
}

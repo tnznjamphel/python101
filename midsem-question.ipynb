{
 "cells": [
  {
   "cell_type": "code",
   "execution_count": 25,
   "metadata": {
    "collapsed": true
   },
   "outputs": [],
   "source": [
    "list1=[10,20,30,50,40,20,20,80]\n",
    " \n",
    "lst=[10,20,30,40]\n",
    "def shift(list1,pos):\n",
    "    if pos+1<len(list1):\n",
    "        list1[pos]=list1[pos+1]\n",
    "        shift(list1,pos+1)\n",
    "\n",
    "def rremove(list1,x,i=0):\n",
    "    '''\n",
    "    objective: to remove all instances of element x\n",
    "    input: list,element x\n",
    "    ouput: list with all xs removed\n",
    "    return: none\n",
    "    '''\n",
    "    if i<len(list1):\n",
    "        n=i+1\n",
    "        if list1[i]==x:\n",
    "            shift(list1,i)\n",
    "            list1.pop()\n",
    "            n=i\n",
    "        rremove(list1,x,n)\n",
    "\n"
   ]
  },
  {
   "cell_type": "code",
   "execution_count": 26,
   "metadata": {
    "collapsed": true
   },
   "outputs": [],
   "source": [
    "rremove(list1,20)"
   ]
  },
  {
   "cell_type": "code",
   "execution_count": 27,
   "metadata": {
    "collapsed": false
   },
   "outputs": [
    {
     "data": {
      "text/plain": [
       "[10, 30, 50, 40, 80]"
      ]
     },
     "execution_count": 27,
     "metadata": {},
     "output_type": "execute_result"
    }
   ],
   "source": [
    "list1"
   ]
  },
  {
   "cell_type": "code",
   "execution_count": 4,
   "metadata": {
    "collapsed": true
   },
   "outputs": [],
   "source": [
    "lst=[1,[2,3,[4]],5]\n",
    "cop=[]\n",
    "#flattening the list \n",
    "def copy(list1,cop,i=0):\n",
    "    if i<len(list1):\n",
    "        if type(list1[i])==list:\n",
    "            copy(list1[i],cop,i=0)\n",
    "        else:\n",
    "            cop.append(list1[i])\n",
    "        copy(list1,cop,i+1)"
   ]
  },
  {
   "cell_type": "code",
   "execution_count": 5,
   "metadata": {
    "collapsed": true
   },
   "outputs": [],
   "source": [
    "copy(lst,cop)"
   ]
  },
  {
   "cell_type": "code",
   "execution_count": 22,
   "metadata": {
    "collapsed": false
   },
   "outputs": [],
   "source": [
    "lst=[1,[2,3,[4]],5]\n",
    "#deep copy \n",
    "def deep_copy(list1,cop=[],i=0):\n",
    "    '''\n",
    "    objective: to deep copy a given list instead of shallow copy\n",
    "    input: the list to copied\n",
    "    output: none\n",
    "    return value: the new copied list is returned \n",
    "    '''\n",
    "    if i==len(list1):\n",
    "        return cop\n",
    "    else:\n",
    "        if type(list1[i])==list:\n",
    "            cop.append(deep_copy(list1[i],cop=[],i=0))\n",
    "        else:\n",
    "            cop.append(list1[i])\n",
    "        return deep_copy(list1,cop,i+1)\n"
   ]
  },
  {
   "cell_type": "code",
   "execution_count": 23,
   "metadata": {
    "collapsed": false
   },
   "outputs": [
    {
     "name": "stdout",
     "output_type": "stream",
     "text": [
      "[1, [2, 3, [4]], 5]\n"
     ]
    }
   ],
   "source": [
    "lst2=deep_copy(lst)\n",
    "print(lst2)"
   ]
  },
  {
   "cell_type": "code",
   "execution_count": 24,
   "metadata": {
    "collapsed": false
   },
   "outputs": [
    {
     "name": "stdout",
     "output_type": "stream",
     "text": [
      "68847944\n",
      "68963976\n"
     ]
    }
   ],
   "source": [
    "print(id(lst[1]))\n",
    "print(id(lst2[1]))\n"
   ]
  },
  {
   "cell_type": "code",
   "execution_count": 1,
   "metadata": {
    "collapsed": true
   },
   "outputs": [],
   "source": [
    "lst=[1,[2,3,[4]],5]\n",
    "cop=[]\n",
    "def copy(list1,cop,i=0):\n",
    "    '''\n",
    "    objecive: to copy a given list to another list\n",
    "    input: two lists\n",
    "    output: the first list is copied into the second list\n",
    "    return value: none\n",
    "    '''\n",
    "    if i<len(list1):\n",
    "        cop.append(list1[i]) # cop\n",
    "        copy(list1,cop,i+1)"
   ]
  },
  {
   "cell_type": "code",
   "execution_count": 2,
   "metadata": {
    "collapsed": true
   },
   "outputs": [],
   "source": [
    "copy(lst,cop)"
   ]
  },
  {
   "cell_type": "code",
   "execution_count": 3,
   "metadata": {
    "collapsed": false
   },
   "outputs": [
    {
     "name": "stdout",
     "output_type": "stream",
     "text": [
      "66382088\n",
      "66382088\n"
     ]
    }
   ],
   "source": [
    "print(id(lst[1]))\n",
    "print(id(cop[1]))"
   ]
  },
  {
   "cell_type": "code",
   "execution_count": 24,
   "metadata": {
    "collapsed": true
   },
   "outputs": [],
   "source": [
    "lst=[1,[2,3,[4]],5]\n",
    "cop=[]\n",
    "def copy(list1,cop):\n",
    "    if len(list1)==0:\n",
    "        return cop\n",
    "    else:\n",
    "        cop+=[list1[0]]\n",
    "        return copy(list1[1:],cop)"
   ]
  },
  {
   "cell_type": "code",
   "execution_count": 25,
   "metadata": {
    "collapsed": false
   },
   "outputs": [
    {
     "data": {
      "text/plain": [
       "[1, [2, 3, [4]], 5]"
      ]
     },
     "execution_count": 25,
     "metadata": {},
     "output_type": "execute_result"
    }
   ],
   "source": [
    "copy(lst,cop)"
   ]
  },
  {
   "cell_type": "code",
   "execution_count": null,
   "metadata": {
    "collapsed": true
   },
   "outputs": [],
   "source": [
    "lst=[1,[2,3,[4]],5]\n",
    "cop=[]\n",
    "def copy(list1,cop):\n",
    "    if len(list1)==0:\n",
    "        return cop\n",
    "    else:\n",
    "        cop+=[list1[0]]\n",
    "        return copy(list1[1:],cop)"
   ]
  }
 ],
 "metadata": {
  "kernelspec": {
   "display_name": "Python 2",
   "language": "python",
   "name": "python2"
  },
  "language_info": {
   "codemirror_mode": {
    "name": "ipython",
    "version": 2
   },
   "file_extension": ".py",
   "mimetype": "text/x-python",
   "name": "python",
   "nbconvert_exporter": "python",
   "pygments_lexer": "ipython2",
   "version": "2.7.12"
  }
 },
 "nbformat": 4,
 "nbformat_minor": 2
}

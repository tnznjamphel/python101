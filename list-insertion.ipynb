{
 "cells": [
  {
   "cell_type": "code",
   "execution_count": 50,
   "metadata": {},
   "outputs": [
    {
     "data": {
      "text/plain": [
       "15"
      ]
     },
     "execution_count": 50,
     "metadata": {},
     "output_type": "execute_result"
    }
   ],
   "source": [
    "#recurssion using counters\n",
    "\n",
    "list1=[1,2,3,4,5]\n",
    "def sumlist(list1,s=0):\n",
    "    if len(list1)==0:\n",
    "        return s\n",
    "    else:\n",
    "        s=s+list1[0]\n",
    "        return sumlist(list1[1:],s)\n",
    "\n",
    "def s(list1):  \n",
    "    s=0\n",
    "    for x in list1:\n",
    "        s+=x\n",
    "    return s\n",
    "s(list1)"
   ]
  },
  {
   "cell_type": "code",
   "execution_count": 51,
   "metadata": {},
   "outputs": [
    {
     "data": {
      "text/plain": [
       "6"
      ]
     },
     "execution_count": 51,
     "metadata": {},
     "output_type": "execute_result"
    }
   ],
   "source": [
    "sumlist([1,2,3])"
   ]
  },
  {
   "cell_type": "code",
   "execution_count": 42,
   "metadata": {},
   "outputs": [
    {
     "data": {
      "text/plain": [
       "int"
      ]
     },
     "execution_count": 42,
     "metadata": {},
     "output_type": "execute_result"
    }
   ],
   "source": [
    "type(list1[0])"
   ]
  },
  {
   "cell_type": "code",
   "execution_count": 30,
   "metadata": {},
   "outputs": [],
   "source": [
    "#using recurssion pop\n",
    "def sumll(list1):\n",
    "    if(len(list1)==0):\n",
    "        return 0\n",
    "    else:\n",
    "        return list1.pop()+sumll(list1)"
   ]
  },
  {
   "cell_type": "code",
   "execution_count": 31,
   "metadata": {},
   "outputs": [
    {
     "data": {
      "text/plain": [
       "15"
      ]
     },
     "execution_count": 31,
     "metadata": {},
     "output_type": "execute_result"
    }
   ],
   "source": [
    "sumll(list1)"
   ]
  },
  {
   "cell_type": "code",
   "execution_count": null,
   "metadata": {},
   "outputs": [],
   "source": [
    "#recurssion plus list indexing\n",
    "def getSum(piece):\n",
    "    if len(piece)==0:\n",
    "        return 0\n",
    "    else:\n",
    "        return piece[0] + getSum(piece[1:]) \n",
    "print getSum([1, 3, 4, 2, 5])"
   ]
  },
  {
   "cell_type": "code",
   "execution_count": 85,
   "metadata": {},
   "outputs": [],
   "source": [
    "list1=[1,2,3,10,20]\n",
    "\n",
    "#shift logic\n",
    "\n",
    "def shiftx(list1,x,p):\n",
    "    if p<len(list1):\n",
    "        temp=list1[p]\n",
    "        list1[p]=x\n",
    "        shiftx(list1,temp,p+1)\n",
    "        \n",
    "#proper shift function\n",
    "\n",
    "def shift(list1,x,p):\n",
    "    list1.append(x)\n",
    "    shiftx(list1,x,p)\n",
    "\n",
    "\n",
    "\n",
    "def insert(list1,x=8):\n",
    "    c=0\n",
    "    for i in list1:\n",
    "        if(x>list1[c] and x<list1[c+1]):\n",
    "            pos=c+1\n",
    "            break\n",
    "        c+=1\n",
    "    shift(list1,x,pos)\n",
    "insert(list1,5)"
   ]
  },
  {
   "cell_type": "code",
   "execution_count": 86,
   "metadata": {},
   "outputs": [
    {
     "data": {
      "text/plain": [
       "[1, 2, 3, 5, 10, 20]"
      ]
     },
     "execution_count": 86,
     "metadata": {},
     "output_type": "execute_result"
    }
   ],
   "source": [
    "list1"
   ]
  },
  {
   "cell_type": "code",
   "execution_count": 112,
   "metadata": {},
   "outputs": [],
   "source": [
    "# another shift method using loops\n",
    "def shif(list1,x,p):\n",
    "    t1=list1[p]\n",
    "    c=p\n",
    "    list1.append(x)\n",
    "    for y in list1[p:(len(list1)-1)]:\n",
    "        t2=list1[p+1]\n",
    "        list1[p+1]=t1\n",
    "        t1=t2\n",
    "        p+=1\n",
    "    list1[c]=x\n",
    "shif([1,2,3,4,5],90,1)"
   ]
  },
  {
   "cell_type": "code",
   "execution_count": null,
   "metadata": {},
   "outputs": [],
   "source": []
  }
 ],
 "metadata": {
  "kernelspec": {
   "display_name": "Python 3",
   "language": "python",
   "name": "python3"
  },
  "language_info": {
   "codemirror_mode": {
    "name": "ipython",
    "version": 3
   },
   "file_extension": ".py",
   "mimetype": "text/x-python",
   "name": "python",
   "nbconvert_exporter": "python",
   "pygments_lexer": "ipython3",
   "version": "3.7.1"
  }
 },
 "nbformat": 4,
 "nbformat_minor": 2
}

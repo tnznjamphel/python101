{
 "cells": [
  {
   "cell_type": "code",
   "execution_count": 39,
   "metadata": {},
   "outputs": [],
   "source": [
    "#selection select the minimum number\n",
    "list1=[28,6,12,36,4,1,70]\n",
    "\n",
    "def mins(list1,i,j,m=99999999999,pos=0):\n",
    "    if(i==j):\n",
    "        return pos\n",
    "    elif list1[i]<m:\n",
    "        pos=i\n",
    "        m=list1[i]\n",
    "        return mins(list1,i+1,j,m,pos)\n",
    "    else:\n",
    "        return mins(list1,i+1,j,m,pos)\n",
    "        \n",
    "        \n"
   ]
  },
  {
   "cell_type": "code",
   "execution_count": 41,
   "metadata": {},
   "outputs": [
    {
     "data": {
      "text/plain": [
       "5"
      ]
     },
     "execution_count": 41,
     "metadata": {},
     "output_type": "execute_result"
    }
   ],
   "source": [
    "mins(list1,0,6)"
   ]
  },
  {
   "cell_type": "code",
   "execution_count": 26,
   "metadata": {},
   "outputs": [
    {
     "data": {
      "text/plain": [
       "0"
      ]
     },
     "execution_count": 26,
     "metadata": {},
     "output_type": "execute_result"
    }
   ],
   "source": [
    "lmin(list1,1,3)"
   ]
  },
  {
   "cell_type": "code",
   "execution_count": 33,
   "metadata": {},
   "outputs": [],
   "source": [
    "def mins(list1,i,j,m=99999999999,pos=0):\n",
    "    if(i==j):\n",
    "        return pos\n",
    "    elif list1[i]<m:\n",
    "        pos=i\n",
    "        m=list1[i]\n",
    "        return mins(list1,i+1,j,m,pos)\n",
    "    else:\n",
    "        return mins(list1,i+1,j,m,pos)"
   ]
  },
  {
   "cell_type": "code",
   "execution_count": 49,
   "metadata": {},
   "outputs": [],
   "source": [
    "list1=[2,6,12,36,4,1]\n",
    "\n",
    "\n",
    "def minm(list1,i,j,c=0,pos=0):\n",
    "    if c==0:\n",
    "        pos=i\n",
    "        c+=1\n",
    "    \n",
    "    if(i>j):\n",
    "        return pos\n",
    "    elif list1[i]<list1[pos]:\n",
    "        pos=i\n",
    "        return minm(list1,i+1,j,c,pos)\n",
    "    else:\n",
    "        return minm(list1,i+1,j,c,pos)\n",
    "    "
   ]
  },
  {
   "cell_type": "code",
   "execution_count": 51,
   "metadata": {},
   "outputs": [
    {
     "data": {
      "text/plain": [
       "0"
      ]
     },
     "execution_count": 51,
     "metadata": {},
     "output_type": "execute_result"
    }
   ],
   "source": [
    "minm(list1,0,2)"
   ]
  },
  {
   "cell_type": "code",
   "execution_count": null,
   "metadata": {},
   "outputs": [],
   "source": []
  },
  {
   "cell_type": "code",
   "execution_count": null,
   "metadata": {},
   "outputs": [],
   "source": []
  }
 ],
 "metadata": {
  "kernelspec": {
   "display_name": "Python 3",
   "language": "python",
   "name": "python3"
  },
  "language_info": {
   "codemirror_mode": {
    "name": "ipython",
    "version": 3
   },
   "file_extension": ".py",
   "mimetype": "text/x-python",
   "name": "python",
   "nbconvert_exporter": "python",
   "pygments_lexer": "ipython3",
   "version": "3.6.5"
  }
 },
 "nbformat": 4,
 "nbformat_minor": 2
}

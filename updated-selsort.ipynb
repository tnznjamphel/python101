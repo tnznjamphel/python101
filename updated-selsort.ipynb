{
 "cells": [
  {
   "cell_type": "code",
   "execution_count": 1,
   "metadata": {
    "collapsed": true
   },
   "outputs": [],
   "source": [
    "list1=[2,6,12,36,4,1]\n",
    "\n",
    "\n",
    "def minm(list1,i,j,c=0,pos=0):\n",
    "    if c==0:\n",
    "        pos=i\n",
    "        c+=1\n",
    "    \n",
    "    if(i>j):\n",
    "        return pos\n",
    "    elif list1[i]<list1[pos]:\n",
    "        pos=i\n",
    "        return minm(list1,i+1,j,c,pos)\n",
    "    else:\n",
    "        return minm(list1,i+1,j,c,pos)\n",
    "    \n",
    "    \n"
   ]
  },
  {
   "cell_type": "code",
   "execution_count": null,
   "metadata": {
    "collapsed": true
   },
   "outputs": [],
   "source": [
    "\n",
    "def mins(list1,i,j,m=99999999999,pos=0):\n",
    "    if(i==j):\n",
    "        return pos\n",
    "    elif list1[i]<m:\n",
    "        pos=i\n",
    "        m=list1[i]\n",
    "        return mins(list1,i+1,j,m,pos)\n",
    "    else:\n",
    "        return mins(list1,i+1,j,m,pos)"
   ]
  },
  {
   "cell_type": "code",
   "execution_count": 3,
   "metadata": {
    "collapsed": false
   },
   "outputs": [
    {
     "data": {
      "text/plain": [
       "5"
      ]
     },
     "execution_count": 3,
     "metadata": {},
     "output_type": "execute_result"
    }
   ],
   "source": [
    "minm(list1,0,5)"
   ]
  },
  {
   "cell_type": "code",
   "execution_count": 19,
   "metadata": {
    "collapsed": true
   },
   "outputs": [],
   "source": [
    "def minm(list1, li, ui, pos=None):\n",
    "    if pos==None:\n",
    "        pos=li\n",
    "    \n",
    "    if(li>ui):\n",
    "        return pos\n",
    "    elif list1[ui]<list1[pos]:\n",
    "        pos=li\n",
    "        return minm(list1, li+1, ui, pos)\n",
    "    else:\n",
    "        return minm(list1, li+1, ui, pos)\n",
    "    \n",
    "    "
   ]
  },
  {
   "cell_type": "code",
   "execution_count": 20,
   "metadata": {
    "collapsed": false
   },
   "outputs": [
    {
     "data": {
      "text/plain": [
       "5"
      ]
     },
     "execution_count": 20,
     "metadata": {},
     "output_type": "execute_result"
    }
   ],
   "source": [
    "minm(list1,0,5)"
   ]
  },
  {
   "cell_type": "code",
   "execution_count": 16,
   "metadata": {
    "collapsed": true
   },
   "outputs": [],
   "source": [
    "def selsort(list1,x=0):\n",
    "    '''\n",
    "    Objective: to sort the list using minimum element positioning   \n",
    "    inputs:\n",
    "        list\n",
    "    return value:\n",
    "        None\n",
    "    output: list is sorted in a descending order \n",
    "    '''\n",
    "    #approach\n",
    "    \n",
    "    if x<len(list1):\n",
    "        i=len(list1)-x-1\n",
    "        p=minm(list1,0,i)\n",
    "        list1[i],list1[p]=list1[p],list1[i]  #swapping elements at position i and p\n",
    "        selsort(list1,x+1)\n",
    "        "
   ]
  },
  {
   "cell_type": "code",
   "execution_count": 11,
   "metadata": {
    "collapsed": true
   },
   "outputs": [],
   "source": [
    "list2=[2,6,12,36,4,1]"
   ]
  },
  {
   "cell_type": "code",
   "execution_count": 13,
   "metadata": {
    "collapsed": true
   },
   "outputs": [],
   "source": [
    "selsort(list2)"
   ]
  },
  {
   "cell_type": "code",
   "execution_count": 14,
   "metadata": {
    "collapsed": false
   },
   "outputs": [
    {
     "data": {
      "text/plain": [
       "[36, 12, 6, 4, 2, 1]"
      ]
     },
     "execution_count": 14,
     "metadata": {},
     "output_type": "execute_result"
    }
   ],
   "source": [
    "list2"
   ]
  },
  {
   "cell_type": "code",
   "execution_count": null,
   "metadata": {
    "collapsed": true
   },
   "outputs": [],
   "source": []
  }
 ],
 "metadata": {
  "kernelspec": {
   "display_name": "Python 3",
   "language": "python",
   "name": "python3"
  },
  "language_info": {
   "codemirror_mode": {
    "name": "ipython",
    "version": 3
   },
   "file_extension": ".py",
   "mimetype": "text/x-python",
   "name": "python",
   "nbconvert_exporter": "python",
   "pygments_lexer": "ipython3",
   "version": "3.6.0"
  }
 },
 "nbformat": 4,
 "nbformat_minor": 2
}

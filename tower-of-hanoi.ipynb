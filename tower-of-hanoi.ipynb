{
 "cells": [
  {
   "cell_type": "code",
   "execution_count": 12,
   "metadata": {
    "collapsed": true
   },
   "outputs": [],
   "source": [
    "#tower of hanoi \n",
    "def hanoi(n,src,aux,dest):\n",
    "    '''\n",
    "    Objective: to move n disc using three rods  \n",
    "    inputs:\n",
    "        n discs\n",
    "    return value:\n",
    "        None\n",
    "    output: n discs are shifted to the target rod from source using aux \n",
    "    '''\n",
    "    #approach: \n",
    "    \n",
    "    if n==1:\n",
    "        print(\"move disc 1 from\",src,\" to \",dest,\" using \",aux)\n",
    "    else:\n",
    "        hanoi(n-1,src,dest,aux)\n",
    "        print(\"move disc\", n, \"from\",src,\" to \",dest,\" using \",aux)\n",
    "        hanoi(n-1,aux,src,dest)\n",
    "        "
   ]
  },
  {
   "cell_type": "code",
   "execution_count": 13,
   "metadata": {
    "collapsed": false
   },
   "outputs": [
    {
     "name": "stdout",
     "output_type": "stream",
     "text": [
      "move disc 1 from A  to  B  using  C\n",
      "move disc 2 from A  to  C  using  B\n",
      "move disc 1 from B  to  C  using  A\n",
      "move disc 3 from A  to  B  using  C\n",
      "move disc 1 from C  to  A  using  B\n",
      "move disc 2 from C  to  B  using  A\n",
      "move disc 1 from A  to  B  using  C\n"
     ]
    }
   ],
   "source": [
    "hanoi(3,\"A\",\"C\",\"B\")"
   ]
  },
  {
   "cell_type": "code",
   "execution_count": 14,
   "metadata": {
    "collapsed": false
   },
   "outputs": [
    {
     "name": "stdout",
     "output_type": "stream",
     "text": [
      "move disc 1 from A  to  B  using  C\n",
      "move disc 2 from A  to  C  using  B\n",
      "move disc 1 from B  to  C  using  A\n",
      "move disc 3 from A  to  B  using  C\n",
      "move disc 1 from C  to  A  using  B\n",
      "move disc 2 from C  to  B  using  A\n",
      "move disc 1 from A  to  B  using  C\n",
      "move disc 4 from A  to  C  using  B\n",
      "move disc 1 from B  to  C  using  A\n",
      "move disc 2 from B  to  A  using  C\n",
      "move disc 1 from C  to  A  using  B\n",
      "move disc 3 from B  to  C  using  A\n",
      "move disc 1 from A  to  B  using  C\n",
      "move disc 2 from A  to  C  using  B\n",
      "move disc 1 from B  to  C  using  A\n"
     ]
    }
   ],
   "source": [
    "hanoi(4,\"A\",\"B\",\"C\")"
   ]
  },
  {
   "cell_type": "code",
   "execution_count": 15,
   "metadata": {
    "collapsed": false
   },
   "outputs": [
    {
     "name": "stdout",
     "output_type": "stream",
     "text": [
      "move disc 1 from A  to  B  using  C\n",
      "move disc 2 from A  to  C  using  B\n",
      "move disc 1 from B  to  C  using  A\n"
     ]
    }
   ],
   "source": [
    "hanoi(2,\"A\",\"B\",\"C\")"
   ]
  },
  {
   "cell_type": "code",
   "execution_count": null,
   "metadata": {
    "collapsed": true
   },
   "outputs": [],
   "source": []
  }
 ],
 "metadata": {
  "kernelspec": {
   "display_name": "Python 3",
   "language": "python",
   "name": "python3"
  },
  "language_info": {
   "codemirror_mode": {
    "name": "ipython",
    "version": 3
   },
   "file_extension": ".py",
   "mimetype": "text/x-python",
   "name": "python",
   "nbconvert_exporter": "python",
   "pygments_lexer": "ipython3",
   "version": "3.6.0"
  }
 },
 "nbformat": 4,
 "nbformat_minor": 2
}

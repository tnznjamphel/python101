{
 "cells": [
  {
   "cell_type": "code",
   "execution_count": 2,
   "metadata": {},
   "outputs": [
    {
     "ename": "SyntaxError",
     "evalue": "invalid syntax (<ipython-input-2-71bedd6e7925>, line 3)",
     "output_type": "error",
     "traceback": [
      "\u001b[1;36m  File \u001b[1;32m\"<ipython-input-2-71bedd6e7925>\"\u001b[1;36m, line \u001b[1;32m3\u001b[0m\n\u001b[1;33m    def insert(list,e)\u001b[0m\n\u001b[1;37m                      ^\u001b[0m\n\u001b[1;31mSyntaxError\u001b[0m\u001b[1;31m:\u001b[0m invalid syntax\n"
     ]
    }
   ],
   "source": [
    "list=[10,20,30,40,50]\n",
    "insert(list,35)\n",
    "\n",
    "def shift(list,l=len(list),p)\n",
    "    if p<l\n",
    "        t=list[p]\n",
    "        list[p]=x\n",
    "        p+=1\n",
    "        \n",
    "        \n",
    "    \n",
    "    \n",
    "\n",
    "def insert(list,e)\n",
    "    for x in list:\n",
    "        if x < e and e<list[i+1]\n",
    "            pos=i+1\n",
    "            break\n",
    "        i+=1\n",
    "        \n",
    "    list.append(x)\n",
    "    t1=list[pos]\n",
    "    list[pos]=x\n",
    "    t2=list[post+1]\n",
    "    list[pos+1]=t1\n",
    "\n",
    "    \n",
    "        \n",
    "            "
   ]
  },
  {
   "cell_type": "code",
   "execution_count": 8,
   "metadata": {},
   "outputs": [
    {
     "data": {
      "text/plain": [
       "[1, 10, 15, 20, 30, 50]"
      ]
     },
     "execution_count": 8,
     "metadata": {},
     "output_type": "execute_result"
    }
   ],
   "source": [
    "def insert(list,e):\n",
    "    i=0\n",
    "    for x in list:\n",
    "        if x < e and e<list[i+1]:\n",
    "            pos=i+1\n",
    "            break\n",
    "        i+=1\n",
    "        \n",
    "    list.insert(pos,e)\n",
    "    return list\n",
    "list=[1,10,20,30,50]\n",
    "insert(list,15)"
   ]
  },
  {
   "cell_type": "code",
   "execution_count": null,
   "metadata": {},
   "outputs": [],
   "source": []
  }
 ],
 "metadata": {
  "kernelspec": {
   "display_name": "Python 3",
   "language": "python",
   "name": "python3"
  },
  "language_info": {
   "codemirror_mode": {
    "name": "ipython",
    "version": 3
   },
   "file_extension": ".py",
   "mimetype": "text/x-python",
   "name": "python",
   "nbconvert_exporter": "python",
   "pygments_lexer": "ipython3",
   "version": "3.6.5"
  }
 },
 "nbformat": 4,
 "nbformat_minor": 2
}
